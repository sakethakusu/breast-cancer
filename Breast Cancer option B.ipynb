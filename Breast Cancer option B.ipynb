{
 "cells": [
  {
   "cell_type": "code",
   "execution_count": 123,
   "id": "4871b636-4486-4188-b051-5e441f88312c",
   "metadata": {},
   "outputs": [],
   "source": [
    "# Import necessary libraries\n",
    "import pandas as pd\n",
    "import numpy as np\n",
    "from sklearn import datasets\n",
    "from sklearn.model_selection import train_test_split\n",
    "from sklearn.preprocessing import StandardScaler"
   ]
  },
  {
   "cell_type": "code",
   "execution_count": 125,
   "id": "1ba80af3-d8ec-4461-aaf0-529ace01d9f1",
   "metadata": {},
   "outputs": [],
   "source": [
    "RANDOM_STATE = 42\n",
    "# Load dataset\n",
    "cancer = datasets.load_breast_cancer()"
   ]
  },
  {
   "cell_type": "code",
   "execution_count": 127,
   "id": "e0e5b3ca-3993-41dd-adb0-617ec6ab8fc9",
   "metadata": {},
   "outputs": [
    {
     "name": "stdout",
     "output_type": "stream",
     "text": [
      "mean radius                0\n",
      "mean texture               0\n",
      "mean perimeter             0\n",
      "mean area                  0\n",
      "mean smoothness            0\n",
      "mean compactness           0\n",
      "mean concavity             0\n",
      "mean concave points        0\n",
      "mean symmetry              0\n",
      "mean fractal dimension     0\n",
      "radius error               0\n",
      "texture error              0\n",
      "perimeter error            0\n",
      "area error                 0\n",
      "smoothness error           0\n",
      "compactness error          0\n",
      "concavity error            0\n",
      "concave points error       0\n",
      "symmetry error             0\n",
      "fractal dimension error    0\n",
      "worst radius               0\n",
      "worst texture              0\n",
      "worst perimeter            0\n",
      "worst area                 0\n",
      "worst smoothness           0\n",
      "worst compactness          0\n",
      "worst concavity            0\n",
      "worst concave points       0\n",
      "worst symmetry             0\n",
      "worst fractal dimension    0\n",
      "target                     0\n",
      "dtype: int64\n"
     ]
    }
   ],
   "source": [
    "# Convert to DataFrame\n",
    "df = pd.DataFrame(data=cancer.data, columns=cancer.feature_names)\n",
    "df['target'] = cancer.target # Add target column (0: Malignant, 1: Benign)\n",
    "# Check for missing values\n",
    "print(df.isnull().sum())"
   ]
  },
  {
   "cell_type": "code",
   "execution_count": 129,
   "id": "60410efa-45a2-41a4-8217-26e09cb247d4",
   "metadata": {},
   "outputs": [
    {
     "name": "stdout",
     "output_type": "stream",
     "text": [
      "Data Preprocessing Completed!\n"
     ]
    }
   ],
   "source": [
    "# Split data into features and target\n",
    "X = df.drop(columns=['target'])\n",
    "y = df['target']\n",
    "\n",
    "# Split into training and test set (80-20 split)\n",
    "X_train, X_test, y_train, y_test = train_test_split(X, y, test_size=0.2, random_state=42)\n",
    "\n",
    "# Standardize the data\n",
    "scaler = StandardScaler()\n",
    "X_train = scaler.fit_transform(X_train)\n",
    "X_test = scaler.transform(X_test)\n",
    "\n",
    "print(\"Data Preprocessing Completed!\")\n"
   ]
  },
  {
   "cell_type": "code",
   "execution_count": 131,
   "id": "fd86694f-4a6b-4000-80c8-d011245314b7",
   "metadata": {},
   "outputs": [
    {
     "name": "stdout",
     "output_type": "stream",
     "text": [
      "Best Gradient Boosting Parameters: {'learning_rate': 0.1, 'max_depth': 3, 'n_estimators': 200}\n"
     ]
    }
   ],
   "source": [
    "from sklearn.ensemble import GradientBoostingClassifier\n",
    "from sklearn.model_selection import GridSearchCV\n",
    "\n",
    "# Define GBC model\n",
    "gbc = GradientBoostingClassifier(random_state=42)\n",
    "\n",
    "# Define hyperparameter grid\n",
    "param_grid_gbc = {\n",
    "    'n_estimators': [50, 100, 200],\n",
    "    'learning_rate': [0.01, 0.1, 0.2],\n",
    "    'max_depth': [3, 5, 10]\n",
    "}\n",
    "\n",
    "# Perform Grid Search CV\n",
    "grid_search_gbc = GridSearchCV(gbc, param_grid_gbc, cv=5, scoring='accuracy', n_jobs=-1)\n",
    "grid_search_gbc.fit(X_train, y_train)\n",
    "\n",
    "# Get best model\n",
    "best_gbc = grid_search_gbc.best_estimator_\n",
    "\n",
    "# Train best model\n",
    "best_gbc.fit(X_train, y_train)\n",
    "\n",
    "print(\"Best Gradient Boosting Parameters:\", grid_search_gbc.best_params_)\n"
   ]
  },
  {
   "cell_type": "code",
   "execution_count": 132,
   "id": "efd0033a-b113-4369-b8a8-8fdad0ed4893",
   "metadata": {},
   "outputs": [
    {
     "name": "stdout",
     "output_type": "stream",
     "text": [
      "Best Random Forest Model: {'max_depth': None, 'min_samples_split': 2, 'n_estimators': 200}\n"
     ]
    }
   ],
   "source": [
    "from sklearn.ensemble import RandomForestClassifier\n",
    "from sklearn.model_selection import GridSearchCV\n",
    "# Define Random Forest model\n",
    "rf = RandomForestClassifier(random_state=42)\n",
    "# Hyperparameter tuning using GridSearch\n",
    "param_grid = {\n",
    " 'n_estimators': [50, 100, 200],\n",
    " 'max_depth': [None, 10, 20],\n",
    " 'min_samples_split': [2, 5, 10]\n",
    "}\n",
    "grid_search = GridSearchCV(rf, param_grid, cv=5, scoring='accuracy')\n",
    "grid_search.fit(X_train, y_train)\n",
    "best_rf = grid_search.best_estimator_\n",
    "best_rf.fit(X_train, y_train)\n",
    "print(\"Best Random Forest Model:\", grid_search.best_params_)"
   ]
  },
  {
   "cell_type": "code",
   "execution_count": 133,
   "id": "627468d2-43b3-436a-988b-a461e198de13",
   "metadata": {},
   "outputs": [
    {
     "name": "stdout",
     "output_type": "stream",
     "text": [
      "Best SVM Model: {'kernel': 'linear', 'gamma': 'scale', 'C': 1}\n"
     ]
    }
   ],
   "source": [
    "from sklearn.svm import SVC\n",
    "from sklearn.model_selection import RandomizedSearchCV\n",
    "\n",
    "RANDOM_STATE = 42\n",
    "\n",
    "# Define SVM model\n",
    "svm = SVC(probability=True, random_state=42)\n",
    "\n",
    "# Hyperparameter tuning using RandomizedSearch\n",
    "param_dist = {\n",
    " 'C': [0.1, 1, 10, 100],\n",
    " 'kernel': ['linear', 'rbf', 'poly'],\n",
    " 'gamma': ['scale', 'auto']\n",
    "}\n",
    "\n",
    "random_search = RandomizedSearchCV(svm, param_distributions=param_dist, n_iter=10)\n",
    "random_search.fit(X_train, y_train)\n",
    "best_svm = random_search.best_estimator_\n",
    "best_svm.fit(X_train, y_train)\n",
    "print(\"Best SVM Model:\", random_search.best_params_)\n"
   ]
  },
  {
   "cell_type": "code",
   "execution_count": 136,
   "id": "a6032259-f036-4b75-bb0c-7379be86756f",
   "metadata": {},
   "outputs": [
    {
     "name": "stdout",
     "output_type": "stream",
     "text": [
      "\n",
      "🔹 Gradient Boosting Classifier Performance Metrics:\n",
      "Accuracy: 0.9561\n",
      "Precision: 0.9583\n",
      "Recall: 0.9718\n",
      "F1-Score: 0.9650\n",
      "\n",
      "🔹 Random Forest Classifier Performance Metrics:\n",
      "Accuracy: 0.9649\n",
      "Precision: 0.9589\n",
      "Recall: 0.9859\n",
      "F1-Score: 0.9722\n",
      "\n",
      "🔹 Support Vector Machine Performance Metrics:\n",
      "Accuracy: 0.9561\n",
      "Precision: 0.9714\n",
      "Recall: 0.9577\n",
      "F1-Score: 0.9645\n"
     ]
    }
   ],
   "source": [
    "from sklearn.metrics import accuracy_score, precision_score, recall_score, f1_score\n",
    "\n",
    "# Function to evaluate models\n",
    "def evaluate_model(y_true, y_pred, model_name):\n",
    "    print(f\"\\n🔹 {model_name} Performance Metrics:\")\n",
    "    print(f\"Accuracy: {accuracy_score(y_true, y_pred):.4f}\")\n",
    "    print(f\"Precision: {precision_score(y_true, y_pred):.4f}\")\n",
    "    print(f\"Recall: {recall_score(y_true, y_pred):.4f}\")\n",
    "    print(f\"F1-Score: {f1_score(y_true, y_pred):.4f}\")\n",
    "\n",
    "evaluate_model(y_test, best_gbc.predict(X_test), \"Gradient Boosting Classifier\") \n",
    "evaluate_model(y_test, best_rf.predict(X_test), \"Random Forest Classifier\")     \n",
    "evaluate_model(y_test, best_svm.predict(X_test), \"Support Vector Machine\")      \n"
   ]
  }
 ],
 "metadata": {
  "kernelspec": {
   "display_name": "Python [conda env:base] *",
   "language": "python",
   "name": "conda-base-py"
  },
  "language_info": {
   "codemirror_mode": {
    "name": "ipython",
    "version": 3
   },
   "file_extension": ".py",
   "mimetype": "text/x-python",
   "name": "python",
   "nbconvert_exporter": "python",
   "pygments_lexer": "ipython3",
   "version": "3.12.7"
  }
 },
 "nbformat": 4,
 "nbformat_minor": 5
}
